


# Initial imports
import os
import requests
import pandas as pd
from dotenv import load_dotenv
import alpaca_trade_api as tradeapi
from MCForecastTools import MCSimulation

%matplotlib inline


# Load .env enviroment variables
load_dotenv()








# Set current amount of crypto assets
# YOUR CODE HERE!
my_btc = 1.2
my_eth = 5.3


# Crypto API URLs
btc_url = "https://api.alternative.me/v2/ticker/Bitcoin/?convert=USD"
eth_url = "https://api.alternative.me/v2/ticker/Ethereum/?convert=USD"


# Fetch current BTC price
# YOUR CODE HERE!
btc_data = requests.get(btc_url).json()
btc_price = btc_data['data']['1']['quotes']['USD']['price']

# Fetch current ETH price
# YOUR CODE HERE!

eth_data = requests.get(eth_url).json()
eth_price = eth_data['data']['1027']['quotes']['USD']['price']

# Compute current value of my crpto
# YOUR CODE HERE!

my_btc_value = my_btc * btc_price
my_eth_value = my_eth * eth_price

# Print current crypto wallet balance
print(f"The current value of your {my_btc} BTC is ${my_btc_value:0.2f}")
print(f"The current value of your {my_eth} ETH is ${my_eth_value:0.2f}")





# Set current amount of shares
my_agg = 200
my_spy = 50


# Set Alpaca API key and secret
# YOUR CODE HERE!

alpaca_api_key = os.getenv("ALPACA_API_KEY")
alpaca_secret_key = os.getenv("ALPACA_SECRET_KEY")

# Create the Alpaca API object
# YOUR CODE HERE!

alpaca = tradeapi.REST(
    alpaca_api_key,
    alpaca_secret_key,
    api_version = "v2"
)


# Format current date as ISO format
# YOUR CODE HERE!

start_date = pd.Timestamp("2020-05-01", tz = "America/New_York").isoformat()
end_date = pd.Timestamp("2024-01-17", tz = "America/New_York").isoformat()

# Set the tickers
tickers = ["AGG", "SPY"]

# Set timeframe to "1Day" for Alpaca API
timeframe = "1Day"

# Get current closing prices for SPY and AGG
# YOUR CODE HERE!

df_ticker = alpaca.get_bars(
    tickers,
    timeframe,
    start = start_date,
    end = end_date,
).df

# Reorganize the DataFrame
# Separate ticker data
# YOUR CODE HERE!

agg = df_ticker[df_ticker["symbol"]=="AGG"].drop("symbol", axis = 1)
spy = df_ticker[df_ticker["symbol"]=="SPY"].drop("symbol", axis = 1)

# Concatenate the ticker DataFrames
# YOUR CODE HERE!

combined_df = pd.concat([agg, spy], axis=1, keys=["AGG","SPY"])
combined_df.index = combined_df.index.date

# Preview DataFrame
# YOUR CODE HERE!

combined_df.head()


# Pick AGG and SPY close prices
# YOUR CODE HERE!

agg_close_price = combined_df['AGG']['close'][-1]
spy_close_price = combined_df['SPY']['close'][-1]

# Print AGG and SPY close prices
print(f"Current AGG closing price: ${agg_close_price}")
print(f"Current SPY closing price: ${spy_close_price}")


# Compute the current value of shares
# YOUR CODE HERE!

my_spy_value = my_spy * spy_close_price
my_agg_value = my_agg * agg_close_price

# Print current value of shares
print(f"The current value of your {my_spy} SPY shares is ${my_spy_value:0.2f}")
print(f"The current value of your {my_agg} AGG shares is ${my_agg_value:0.2f}")





# Set monthly household income
# YOUR CODE HERE!

monthly_income = 12000

# Consolidate financial assets data
# YOUR CODE HERE!

crypto_value = my_btc_value + my_eth_value
shares_value = my_spy_value + my_agg_value

# Create savings DataFrame
# YOUR CODE HERE!

df_savings = pd.DataFrame({'amount': [crypto_value, shares_value]}, index = ['crpyto', 'shares'])

# Display savings DataFrame
display(df_savings)


# Plot savings pie chart
# YOUR CODE HERE!

df_savings.plot(kind = 'pie', y = 'amount', figsize = (10, 5), autopct = '%1.2f%%', startangle = 100)


# Set ideal emergency fund
emergency_fund = monthly_income * 3

# Calculate total amount of savings
# YOUR CODE HERE!

savings = df_savings.sum()['amount']

# Validate saving health
# YOUR CODE HERE!
if savings > emergency_fund:
    print('Congratulations! You have enough money in your emergency fund.')
elif savings == emergency_fund:
    print('Congratulations! You are on reaching the financial goal.')
else:
    print(f"There is {emergency_fund - savings} away from reaching the goal")





# Set start and end dates of five years back from today.
# Sample results may vary from the solution based on the time frame chosen
start_date = pd.Timestamp('2016-05-01', tz = 'America/New_York').isoformat()
end_date = pd.Timestamp('2021-05-01', tz = 'America/New_York').isoformat()


# Get 5 years' worth of historical data for SPY and AGG
# YOUR CODE HERE!

df_ticker2 = alpaca.get_bars(
    tickers,
    timeframe,
    start = start_date,
    end = end_date,
).df

# Reorganize the DataFrame
# Separate ticker data
# YOUR CODE HERE!

AGG = df_ticker2[df_ticker2["symbol"] == "AGG"].drop("symbol", axis = 1)
SPY = df_ticker2[df_ticker2["symbol"] == "SPY"].drop("symbol", axis = 1)

# Concatenate the ticker DataFrames
# YOUR CODE HERE!

df_stock_data = pd.concat([AGG, SPY], axis = 1, keys = ["AGG","SPY"])
df_stock_data.index = df_stock_data.index.date

# Display sample data
df_stock_data.head()


# Configuring a Monte Carlo simulation to forecast 30 years cumulative returns
# YOUR CODE HERE!

MC_thirty_years = MCSimulation(
    portfolio_data = df_stock_data,
    weights = [.40,.60],
    num_simulation = 500,
    num_trading_days = 252 * 30
)


# Printing the simulation input data
# YOUR CODE HERE!
MC_thirty_years.portfolio_data.head()


# Running a Monte Carlo simulation to forecast 30 years cumulative returns
# YOUR CODE HERE!
MC_thirty_years.calc_cumulative_return()


# Plot simulation outcomes
# YOUR CODE HERE!

MC_thirty_years.plot_simulation()


# Plot probability distribution and confidence intervals
# YOUR CODE HERE!
MC_thirty_years.plot_distribution()





# Fetch summary statistics from the Monte Carlo simulation results
# YOUR CODE HERE!

tbl = MC_thirty_years.summarize_cumulative_return()

# Print summary statistics
# YOUR CODE HERE!
print(tbl)





# Set initial investment
initial_investment = 20000

# Use the lower and upper `95%` confidence intervals to calculate the range of the possible outcomes of our $20,000
# YOUR CODE HERE!

ci_lower = round(tbl[8] * initial_investment, 2)
ci_upper = round(tbl[9] * initial_investment, 2)

# Print results
print(f"There is a 95% chance that an initial investment of ${initial_investment} in the portfolio"
      f" over the next 30 years will end within in the range of"
      f" ${ci_lower} and ${ci_upper}")





# Set initial investment
initial_investment = 20000 * 1.5

# Use the lower and upper `95%` confidence intervals to calculate the range of the possible outcomes of our $30,000
# YOUR CODE HERE!

ci_lower = round(tbl[8] * initial_investment, 2)
ci_upper = round(tbl[9] * initial_investment, 2)

# Print results
print(f"There is a 95% chance that an initial investment of ${initial_investment} in the portfolio"
      f" over the next 30 years will end within in the range of"
      f" ${ci_lower} and ${ci_upper}")





# Configuring a Monte Carlo simulation to forecast 5 years cumulative returns
# YOUR CODE HERE!

MC_five_years = MCSimulation(
    portfolio_data = df_stock_data,
    weights = [.40,.60],
    num_simulation = 500,
    num_trading_days = 252 * 5
)


# Running a Monte Carlo simulation to forecast 5 years cumulative returns
# YOUR CODE HERE!
MC_five_years.calc_cumulative_return()


# Plot simulation outcomes
# YOUR CODE HERE!
MC_five_years.plot_simulation()


# Plot probability distribution and confidence intervals
# YOUR CODE HERE!
MC_five_years.plot_distribution()


# Fetch summary statistics from the Monte Carlo simulation results
# YOUR CODE HERE!

tbl_five = MC_five_years.summarize_cumulative_return()

# Print summary statistics
# YOUR CODE HERE!
tbl_five


# Set initial investment
# YOUR CODE HERE!

init_invest = 1000000

# Use the lower and upper `95%` confidence intervals to calculate the range of the possible outcomes of our $60,000
# YOUR CODE HERE!

ci_lower_five = round(tbl_five[8] * init_invest, 2)
ci_upper_five = round(tbl_five[9] * init_invest, 2)

# Print results
print(f"There is a 95% chance that an initial investment of ${initial_investment} in the portfolio"
      f" over the next 5 years will end within in the range of"
      f" ${ci_lower_five} and ${ci_upper_five}")





# Configuring a Monte Carlo simulation to forecast 10 years cumulative returns
# YOUR CODE HERE!
MC_ten_years = MCSimulation(
    portfolio_data = df_stock_data,
    weights = [.40,.60],
    num_simulation = 500,
    num_trading_days = 252 * 10
)


# Running a Monte Carlo simulation to forecast 10 years cumulative returns
# YOUR CODE HERE!
MC_ten_years.calc_cumulative_return()


# Plot simulation outcomes
# YOUR CODE HERE!
MC_ten_years.plot_simulation()


# Plot probability distribution and confidence intervals
# YOUR CODE HERE!
MC_ten_years.plot_distribution()


# Fetch summary statistics from the Monte Carlo simulation results
# YOUR CODE HERE!

tbl_ten = MC_ten_years.summarize_cumulative_return()

# Print summary statistics
# YOUR CODE HERE!
tbl_ten


# Set initial investment
# YOUR CODE HERE!

# Use the lower and upper `95%` confidence intervals to calculate the range of the possible outcomes of our $60,000
# YOUR CODE HERE!

ci_lower_ten = round(tbl_ten[8] * init_invest, 2)
ci_upper_ten = round(tbl_ten[9] * init_invest, 2)

# Print results
print(f"There is a 95% chance that an initial investment of ${initial_investment} in the portfolio"
      f" over the next 10 years will end within in the range of"
      f" ${ci_lower_ten} and ${ci_upper_ten}")



